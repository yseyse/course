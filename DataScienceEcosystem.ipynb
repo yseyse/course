{
 "cells": [
  {
   "cell_type": "markdown",
   "id": "09a0f8ea-edf1-45fb-985f-07c81ef770dc",
   "metadata": {},
   "source": [
    "# Data Science Tools and Ecosystem"
   ]
  },
  {
   "cell_type": "markdown",
   "id": "bdcaebe7-1308-4c23-88ad-ce1dee529662",
   "metadata": {},
   "source": [
    "In this notebook, Data Science Tools and Ecosystem are summarized."
   ]
  },
  {
   "cell_type": "markdown",
   "id": "7a7269cb-f0b1-4109-b65d-036203cc5eaa",
   "metadata": {},
   "source": [
    "Some of the popular languages that Data Scientists use are:\n",
    "\n",
    "1. R\n",
    "2. Python\n",
    "3. SQL"
   ]
  },
  {
   "cell_type": "markdown",
   "id": "60d2b398-4643-46dd-805b-2b9ed93ec25e",
   "metadata": {},
   "source": [
    "Some of the commonly used libraries used by Data Scientists include:\n",
    "1. pandas\n",
    "2. pytorch\n",
    "3. tensorflow"
   ]
  },
  {
   "cell_type": "markdown",
   "id": "b6013616-83a1-4987-9222-3a4671544a5f",
   "metadata": {},
   "source": [
    "|Data Science Tools|\n",
    "|----|\n",
    "|Jupyter notebook|\n",
    "|Google Colab|\n",
    "|VS Code|\n",
    "\n"
   ]
  },
  {
   "cell_type": "markdown",
   "id": "a3feb7ca-5de5-4930-b587-02c6f268b34a",
   "metadata": {},
   "source": [
    "### Below are a few examples of evaluating arithmetic expressions in Python"
   ]
  },
  {
   "cell_type": "code",
   "execution_count": 1,
   "id": "642381d9-442c-445c-b9ab-ce576c2b4242",
   "metadata": {
    "tags": []
   },
   "outputs": [
    {
     "data": {
      "text/plain": [
       "17"
      ]
     },
     "execution_count": 1,
     "metadata": {},
     "output_type": "execute_result"
    }
   ],
   "source": [
    "# This a simple arithmetic expression to mutiply then add integers\n",
    "\n",
    "(3*4)+5"
   ]
  },
  {
   "cell_type": "code",
   "execution_count": 2,
   "id": "fad3f203-ebb3-48f6-b1ed-496ef6318791",
   "metadata": {
    "tags": []
   },
   "outputs": [
    {
     "data": {
      "text/plain": [
       "3.3333333333333335"
      ]
     },
     "execution_count": 2,
     "metadata": {},
     "output_type": "execute_result"
    }
   ],
   "source": [
    "# This will convert 200 minutes to hours by diving by 60\n",
    "\n",
    "200/60"
   ]
  },
  {
   "cell_type": "markdown",
   "id": "9dce8016-f7df-46dd-bc77-4bf401872419",
   "metadata": {},
   "source": [
    "**Objectives:**\n",
    "- add markdown in H1\n",
    "- add markdown in H3\n",
    "- run code with comment"
   ]
  },
  {
   "cell_type": "code",
   "execution_count": null,
   "id": "c4478b40-1db7-4b13-b307-a21285925ca0",
   "metadata": {},
   "outputs": [],
   "source": []
  }
 ],
 "metadata": {
  "kernelspec": {
   "display_name": "Python",
   "language": "python",
   "name": "conda-env-python-py"
  },
  "language_info": {
   "codemirror_mode": {
    "name": "ipython",
    "version": 3
   },
   "file_extension": ".py",
   "mimetype": "text/x-python",
   "name": "python",
   "nbconvert_exporter": "python",
   "pygments_lexer": "ipython3",
   "version": "3.7.12"
  }
 },
 "nbformat": 4,
 "nbformat_minor": 5
}
